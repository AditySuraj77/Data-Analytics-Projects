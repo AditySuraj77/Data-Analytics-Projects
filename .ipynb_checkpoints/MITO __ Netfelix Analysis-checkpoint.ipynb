{
 "cells": [
  {
   "cell_type": "code",
   "execution_count": 1,
   "id": "c0957234-ba57-4199-adfa-9d17ede0b8f9",
   "metadata": {
    "scrolled": true
   },
   "outputs": [
    {
     "data": {
      "application/vnd.jupyter.widget-view+json": {
       "model_id": "1a0a56bb81364471a9d0e8c34fe77b3d",
       "version_major": 2,
       "version_minor": 0
      },
      "text/plain": [
       "MitoWidget(analysis_data_json='{\"analysisName\": \"id-nmgmetjnni\", \"analysisToReplay\": null, \"code\": [], \"stepSu…"
      ]
     },
     "metadata": {},
     "output_type": "display_data"
    }
   ],
   "source": [
    "# Run this cell to render a mitosheet\n",
    "# See mito's documentation here: https://docs.trymito.io/how-to/creating-a-mitosheet\n",
    "# Join our Slack for support here: https://join.slack.com/t/trymito/shared_invite/zt-1h6t163v7-xLPudO7pjQNKccXz7h7GSg\n",
    "\n",
    "import mitosheet\n",
    "mitosheet.sheet(analysis_to_replay=\"id-nmgmetjnni\")"
   ]
  },
  {
   "cell_type": "code",
   "execution_count": null,
   "id": "94d3fc1a",
   "metadata": {},
   "outputs": [],
   "source": [
    "from mitosheet import *; register_analysis(\"id-nmgmetjnni\");\n",
    "    \n",
    "# Imported Netflix Dataset.csv\n",
    "import pandas as pd\n",
    "Netflix_Dataset = pd.read_csv(r'Netflix Dataset.csv')\n",
    "\n",
    "# Pivoted into Netflix_Dataset\n",
    "tmp_df = Netflix_Dataset[['Rating', 'Category', 'Country']]\n",
    "pivot_table = tmp_df.pivot_table(\n",
    "    index=['Country'],\n",
    "    columns=['Category'],\n",
    "    values=['Rating'],\n",
    "    aggfunc={'Rating': ['count']}\n",
    ")\n",
    "pivot_table.set_axis([flatten_column_header(col) for col in pivot_table.keys()], axis=1, inplace=True)\n",
    "Netflix_Dataset_pivot = pivot_table.reset_index()\n",
    "\n",
    "# Pivoted into Netflix_Dataset\n",
    "tmp_df = Netflix_Dataset[['Category', 'Duration', 'Country']]\n",
    "pivot_table = tmp_df.pivot_table(\n",
    "    index=['Country'],\n",
    "    columns=['Category'],\n",
    "    values=['Duration'],\n",
    "    aggfunc={'Duration': ['count']}\n",
    ")\n",
    "pivot_table.set_axis([flatten_column_header(col) for col in pivot_table.keys()], axis=1, inplace=True)\n",
    "Netflix_Dataset_pivot = pivot_table.reset_index()\n",
    "\n",
    "# Filtered Country\n",
    "Netflix_Dataset = Netflix_Dataset[(~Netflix_Dataset['Country'].str.contains('United States', na=False))]\n",
    "\n",
    "# Sorted Duration in ascending order\n",
    "Netflix_Dataset = Netflix_Dataset.sort_values(by='Duration', ascending=True, na_position='first')\n",
    "\n",
    "# Changed Release_Date to dtype datetime\n",
    "import pandas as pd\n",
    "Netflix_Dataset['Release_Date'] = pd.to_datetime(Netflix_Dataset['Release_Date'], infer_datetime_format=True, errors='coerce')\n",
    "\n",
    "# Merged Netflix_Dataset and Netflix_Dataset_pivot into df3\n",
    "df3 = pd.DataFrame()\n",
    "\n",
    "# Imported Udemy Courses.csv\n",
    "import pandas as pd\n",
    "Udemy_Courses = pd.read_csv(r'Udemy Courses.csv')\n",
    "\n",
    "# Split price on \" \"\n",
    "Udemy_Courses[['price-split-0-hbh6']] = Udemy_Courses['price'].str.split(' ', -1, expand=True)\n",
    "Udemy_Courses = Udemy_Courses[Udemy_Courses.columns[:4].tolist() + ['price-split-0-hbh6'] + Udemy_Courses.columns[4:-1].tolist()]\n",
    "\n",
    "# Split price on \" \", \"_\"\n",
    "Udemy_Courses[['price-split-0-zbzn']] = Udemy_Courses['price'].str.split(' |_', -1, expand=True)\n",
    "Udemy_Courses = Udemy_Courses[Udemy_Courses.columns[:4].tolist() + ['price-split-0-zbzn'] + Udemy_Courses.columns[4:-1].tolist()]\n",
    "\n",
    "# Deleted columns is_paid\n",
    "Udemy_Courses.drop(['is_paid'], axis=1, inplace=True)\n",
    "\n",
    "# Deleted 1 row in Udemy_Courses\n",
    "Udemy_Courses.drop(labels=[2], inplace=True)\n",
    "\n",
    "# Renamed columns Course_Price\n",
    "Udemy_Courses.rename(columns={'price': 'Course_Price'}, inplace=True)\n",
    "\n",
    "# Dropped duplicates in Udemy_Courses\n",
    "Udemy_Courses = Udemy_Courses.drop_duplicates(keep='first')\n",
    "\n",
    "# Dropped duplicates in Udemy_Courses\n",
    "Udemy_Courses = Udemy_Courses.drop_duplicates(keep='last')\n",
    "\n",
    "# Filled NaN values in 1 columns in Udemy_Courses\n",
    "columns_to_fill_nan = ['num_reviews']\n",
    "Udemy_Courses[columns_to_fill_nan] = Udemy_Courses[columns_to_fill_nan].fillna(Udemy_Courses[columns_to_fill_nan].mean(numeric_only=False))\n",
    "\n",
    "# Imported Cars Data.csv\n",
    "import pandas as pd\n",
    "Cars_Data = pd.read_csv(r'Cars Data.csv')\n",
    "\n",
    "# Imported Cars Data.csv\n",
    "import pandas as pd\n",
    "Cars_Data_1 = pd.read_csv(r'Cars Data.csv')\n",
    "\n",
    "# Imported Cars Data.csv\n",
    "import pandas as pd\n",
    "Cars_Data_2 = pd.read_csv(r'Cars Data.csv')\n",
    "\n",
    "# Imported Cars Data.csv\n",
    "import pandas as pd\n",
    "Cars_Data_3 = pd.read_csv(r'Cars Data.csv')\n",
    "\n",
    "# Filled NaN values in 1 columns in Cars_Data_3\n",
    "columns_to_fill_nan = ['EngineSize']\n",
    "Cars_Data_3[columns_to_fill_nan] = Cars_Data_3[columns_to_fill_nan].fillna(Cars_Data_3[columns_to_fill_nan].mean(numeric_only=False))\n",
    "\n",
    "# Transposed Cars_Data_3 into Cars_Data_3_transposed\n",
    "Cars_Data_3_transposed = Cars_Data_3.T\n",
    "\n",
    "# Pivoted into Cars_Data_3\n",
    "tmp_df = Cars_Data_3[['Horsepower', 'Origin', 'Model']]\n",
    "pivot_table = tmp_df.pivot_table(\n",
    "    index=['Origin'],\n",
    "    columns=['Model'],\n",
    "    values=['Horsepower'],\n",
    "    aggfunc={'Horsepower': ['count']}\n",
    ")\n",
    "pivot_table.set_axis([flatten_column_header(col) for col in pivot_table.keys()], axis=1, inplace=True)\n",
    "Cars_Data_3_pivot = pivot_table.reset_index()\n"
   ]
  }
 ],
 "metadata": {
  "kernelspec": {
   "display_name": "Python 3 (ipykernel)",
   "language": "python",
   "name": "python3"
  },
  "language_info": {
   "codemirror_mode": {
    "name": "ipython",
    "version": 3
   },
   "file_extension": ".py",
   "mimetype": "text/x-python",
   "name": "python",
   "nbconvert_exporter": "python",
   "pygments_lexer": "ipython3",
   "version": "3.9.13"
  },
  "widgets": {
   "application/vnd.jupyter.widget-state+json": {
    "state": {},
    "version_major": 2,
    "version_minor": 0
   }
  }
 },
 "nbformat": 4,
 "nbformat_minor": 5
}
