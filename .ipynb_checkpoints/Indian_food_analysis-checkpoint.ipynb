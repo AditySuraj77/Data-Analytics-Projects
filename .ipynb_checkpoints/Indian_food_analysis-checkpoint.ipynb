{
 "cells": [
  {
   "cell_type": "code",
   "execution_count": null,
   "metadata": {
    "id": "rVkvHl9fjeZ-"
   },
   "outputs": [],
   "source": []
  },
  {
   "cell_type": "markdown",
   "metadata": {
    "id": "y8_m1fOaDY9B"
   },
   "source": [
    "The dataset consists of about **255** Indian dishes and **9** columns associated with each of them.\n",
    "\n",
    "The **9** columns are as follows:-\n",
    "\n",
    "**name** : name of the dish\n",
    "\n",
    "**ingredients** : main ingredients used\n",
    "\n",
    "**diet** : type of diet - either vegetarian or non vegetarian\n",
    "\n",
    "**prep_time** : preparation time\n",
    "\n",
    "**cook_time** : cooking time\n",
    "\n",
    "**flavor_profile** : flavor profile includes whether the dish is spicy, sweet, bitter, etc\n",
    "\n",
    "**course** : course of meal - starter, main course, dessert, etc\n",
    "\n",
    "**state** : state where the dish is famous or is originated\n",
    "\n",
    "**region** : region where the state belongs\n"
   ]
  },
  {
   "cell_type": "code",
   "execution_count": 1,
   "metadata": {
    "id": "7DKpHR0fDbZw"
   },
   "outputs": [
    {
     "ename": "ModuleNotFoundError",
     "evalue": "No module named 'plotly'",
     "output_type": "error",
     "traceback": [
      "\u001b[1;31m---------------------------------------------------------------------------\u001b[0m",
      "\u001b[1;31mModuleNotFoundError\u001b[0m                       Traceback (most recent call last)",
      "Input \u001b[1;32mIn [1]\u001b[0m, in \u001b[0;36m<cell line: 3>\u001b[1;34m()\u001b[0m\n\u001b[0;32m      1\u001b[0m \u001b[38;5;28;01mimport\u001b[39;00m \u001b[38;5;21;01mpandas\u001b[39;00m \u001b[38;5;28;01mas\u001b[39;00m \u001b[38;5;21;01mpd\u001b[39;00m\n\u001b[0;32m      2\u001b[0m \u001b[38;5;28;01mimport\u001b[39;00m \u001b[38;5;21;01mnumpy\u001b[39;00m \u001b[38;5;28;01mas\u001b[39;00m \u001b[38;5;21;01mnp\u001b[39;00m\n\u001b[1;32m----> 3\u001b[0m \u001b[38;5;28;01mimport\u001b[39;00m \u001b[38;5;21;01mplotly\u001b[39;00m\u001b[38;5;21;01m.\u001b[39;00m\u001b[38;5;21;01mexpress\u001b[39;00m \u001b[38;5;28;01mas\u001b[39;00m \u001b[38;5;21;01mpx\u001b[39;00m\n\u001b[0;32m      4\u001b[0m \u001b[38;5;28;01mfrom\u001b[39;00m \u001b[38;5;21;01mplotly\u001b[39;00m\u001b[38;5;21;01m.\u001b[39;00m\u001b[38;5;21;01moffline\u001b[39;00m \u001b[38;5;28;01mimport\u001b[39;00m init_notebook_mode\n\u001b[0;32m      5\u001b[0m \u001b[38;5;28;01mimport\u001b[39;00m \u001b[38;5;21;01mmatplotlib\u001b[39;00m\u001b[38;5;21;01m.\u001b[39;00m\u001b[38;5;21;01mpyplot\u001b[39;00m \u001b[38;5;28;01mas\u001b[39;00m \u001b[38;5;21;01mplt\u001b[39;00m\n",
      "\u001b[1;31mModuleNotFoundError\u001b[0m: No module named 'plotly'"
     ]
    }
   ],
   "source": [
    "import pandas as pd\n",
    "import numpy as np\n",
    "import plotly.express as px\n",
    "from plotly.offline import init_notebook_mode\n",
    "import matplotlib.pyplot as plt\n",
    "%matplotlib inline\n",
    "from wordcloud import WordCloud , ImageColorGenerator\n"
   ]
  },
  {
   "cell_type": "code",
   "execution_count": null,
   "metadata": {
    "id": "O7I1EuVdjsap"
   },
   "outputs": [],
   "source": [
    "data = pd.read_csv(\"/content/indian_food.csv\")"
   ]
  },
  {
   "cell_type": "code",
   "execution_count": null,
   "metadata": {
    "colab": {
     "base_uri": "https://localhost:8080/",
     "height": 419
    },
    "id": "uLhcBjVnCV7k",
    "outputId": "0e95541f-7755-424b-966a-134a0044be38"
   },
   "outputs": [],
   "source": [
    "data"
   ]
  },
  {
   "cell_type": "code",
   "execution_count": null,
   "metadata": {
    "colab": {
     "base_uri": "https://localhost:8080/",
     "height": 204
    },
    "id": "7KLA5ZJQkFZl",
    "outputId": "b20ed60b-f8a4-4500-9643-a761b26a0fd2"
   },
   "outputs": [],
   "source": [
    "data.head()"
   ]
  },
  {
   "cell_type": "code",
   "execution_count": null,
   "metadata": {
    "colab": {
     "base_uri": "https://localhost:8080/"
    },
    "id": "Y7jRI2keBjIi",
    "outputId": "c3bc5b7f-dc53-4ba2-80ce-276ff32f8473"
   },
   "outputs": [],
   "source": [
    "data.columns"
   ]
  },
  {
   "cell_type": "code",
   "execution_count": null,
   "metadata": {
    "colab": {
     "base_uri": "https://localhost:8080/"
    },
    "id": "ZDxLpAcaBmaW",
    "outputId": "d57488b9-92e0-40ba-f78b-a39cd69d3e0d"
   },
   "outputs": [],
   "source": [
    "data.info()"
   ]
  },
  {
   "cell_type": "code",
   "execution_count": null,
   "metadata": {
    "colab": {
     "base_uri": "https://localhost:8080/"
    },
    "id": "LWDrexw2kID1",
    "outputId": "5c926182-3d94-45f8-d1da-9ad4e51949bd"
   },
   "outputs": [],
   "source": [
    "data.isnull().any()"
   ]
  },
  {
   "cell_type": "code",
   "execution_count": null,
   "metadata": {
    "colab": {
     "base_uri": "https://localhost:8080/"
    },
    "id": "Px13-aNar5W4",
    "outputId": "051fb3e5-b803-4c5d-ac79-5041c1feb268"
   },
   "outputs": [],
   "source": [
    "data.isnull().sum()"
   ]
  },
  {
   "cell_type": "code",
   "execution_count": null,
   "metadata": {
    "id": "YyoHDvMHCajm"
   },
   "outputs": [],
   "source": [
    "data=data.replace(-1,np.nan)\n",
    "data=data.replace('-1',np.nan)\n"
   ]
  },
  {
   "cell_type": "code",
   "execution_count": null,
   "metadata": {
    "colab": {
     "base_uri": "https://localhost:8080/",
     "height": 204
    },
    "id": "E7Rkhn2JCk6R",
    "outputId": "49924d43-f017-477a-deb6-c8be809b5787"
   },
   "outputs": [],
   "source": [
    "data.head()"
   ]
  },
  {
   "cell_type": "code",
   "execution_count": null,
   "metadata": {
    "colab": {
     "base_uri": "https://localhost:8080/"
    },
    "id": "blQSxn-TCniJ",
    "outputId": "30d5ef1d-d70b-454d-e910-8081441f4f7a"
   },
   "outputs": [],
   "source": [
    "data.isnull().sum()"
   ]
  },
  {
   "cell_type": "code",
   "execution_count": null,
   "metadata": {
    "colab": {
     "base_uri": "https://localhost:8080/"
    },
    "id": "J6wx-HEJDRsS",
    "outputId": "3def4e7e-65d2-47ed-c83a-97683039b6cb"
   },
   "outputs": [],
   "source": [
    "data.shape"
   ]
  },
  {
   "cell_type": "code",
   "execution_count": null,
   "metadata": {
    "id": "A-4XMlCpGNeQ"
   },
   "outputs": [],
   "source": []
  },
  {
   "cell_type": "code",
   "execution_count": null,
   "metadata": {
    "id": "pKw91Gy_HABN"
   },
   "outputs": [],
   "source": []
  },
  {
   "cell_type": "code",
   "execution_count": null,
   "metadata": {
    "id": "ZxO5HA05sRkt"
   },
   "outputs": [],
   "source": [
    "pie_data = data.diet.value_counts().reset_index()\n"
   ]
  },
  {
   "cell_type": "code",
   "execution_count": null,
   "metadata": {
    "colab": {
     "base_uri": "https://localhost:8080/",
     "height": 542
    },
    "id": "0cYKSWLdDv51",
    "outputId": "2214057d-e417-408c-ec30-1d05cb6dacd5"
   },
   "outputs": [],
   "source": [
    "pie_data.columns = ['diet','count']\n",
    "fig = px.pie(pie_data, values='count', names='diet', title='Proportion of Vegetarian and Non-Vegetarian dishes',\n",
    "             color_discrete_sequence=['green', 'red'])\n",
    "fig.show()"
   ]
  },
  {
   "cell_type": "code",
   "execution_count": null,
   "metadata": {
    "id": "R_SyV71Sr-0L"
   },
   "outputs": [],
   "source": [
    "sweet_data = data[data['flavor_profile']=='sweet']\n",
    "final_sweet_data = sweet_data[sweet_data['course']!='dessert']\n"
   ]
  },
  {
   "cell_type": "code",
   "execution_count": null,
   "metadata": {
    "colab": {
     "base_uri": "https://localhost:8080/",
     "height": 142
    },
    "id": "satl2duEExBq",
    "outputId": "bcdaaa77-ab43-45e3-a655-81e97b9c6fe0"
   },
   "outputs": [],
   "source": [
    "final_sweet_data"
   ]
  },
  {
   "cell_type": "code",
   "execution_count": null,
   "metadata": {
    "colab": {
     "base_uri": "https://localhost:8080/",
     "height": 542
    },
    "id": "Lhu74W0qsMAk",
    "outputId": "ff10d038-dcad-4e60-910b-405a7c2953e7"
   },
   "outputs": [],
   "source": [
    "flav_data = data.flavor_profile.value_counts().reset_index()\n",
    "flav_data.columns = ['flavor_profile', 'prep_time']\n",
    "fig = px.bar(flav_data,x='flavor_profile',y='prep_time',title='variety of item according to the flavour',\n",
    "color_discrete_sequence=['green'])\n",
    "fig.show()"
   ]
  },
  {
   "cell_type": "code",
   "execution_count": null,
   "metadata": {
    "id": "selz2QOutc2q"
   },
   "outputs": [],
   "source": [
    "cooking_time= data[['cook_time','name']]"
   ]
  },
  {
   "cell_type": "code",
   "execution_count": null,
   "metadata": {
    "colab": {
     "base_uri": "https://localhost:8080/",
     "height": 204
    },
    "id": "c5QJV2y0F6OM",
    "outputId": "05fa3ae6-62a0-4f32-c3e6-6571018d96bb"
   },
   "outputs": [],
   "source": [
    "cooking_time.head()"
   ]
  },
  {
   "cell_type": "code",
   "execution_count": null,
   "metadata": {
    "id": "znlvs5E7F9p3"
   },
   "outputs": [],
   "source": [
    "cooking_time=cooking_time.sort_values(['cook_time'],ascending=True)"
   ]
  },
  {
   "cell_type": "code",
   "execution_count": null,
   "metadata": {
    "id": "SOuuZca3IFx-"
   },
   "outputs": [],
   "source": [
    "ten_cook_quickly=cooking_time.head(10)"
   ]
  },
  {
   "cell_type": "code",
   "execution_count": null,
   "metadata": {
    "id": "wrSyvwJKGCKZ"
   },
   "outputs": [],
   "source": [
    "#cook_data = ten_cook_quickly.cook_time.value_counts().reset_index()\n"
   ]
  },
  {
   "cell_type": "code",
   "execution_count": null,
   "metadata": {
    "id": "GHjNHEwdIFCa"
   },
   "outputs": [],
   "source": []
  },
  {
   "cell_type": "code",
   "execution_count": null,
   "metadata": {
    "colab": {
     "base_uri": "https://localhost:8080/",
     "height": 542
    },
    "id": "r-wn1aWZHr9E",
    "outputId": "00c67a83-4208-442e-957f-6a55f55adcae"
   },
   "outputs": [],
   "source": [
    "#cook_data.columns = ['cook_time', 'name']\n",
    "fig = px.bar(ten_cook_quickly,x='cook_time',y='name',title='dishes based on cooking time',\n",
    "color_discrete_sequence=['green'])\n",
    "fig.show()"
   ]
  },
  {
   "cell_type": "code",
   "execution_count": null,
   "metadata": {
    "colab": {
     "base_uri": "https://localhost:8080/"
    },
    "id": "VdS86OrsH4EF",
    "outputId": "a0d8e3b6-0734-41aa-ee9a-e4a8bba7464e"
   },
   "outputs": [],
   "source": [
    "data.columns"
   ]
  },
  {
   "cell_type": "code",
   "execution_count": null,
   "metadata": {
    "id": "y4QCKnAkI0CZ"
   },
   "outputs": [],
   "source": [
    "cooking_time_longest=cooking_time.sort_values(['cook_time'],ascending=False)"
   ]
  },
  {
   "cell_type": "code",
   "execution_count": null,
   "metadata": {
    "id": "2jSfTouKJDfD"
   },
   "outputs": [],
   "source": [
    "tencooking_time_longest=cooking_time_longest.head(10)"
   ]
  },
  {
   "cell_type": "code",
   "execution_count": null,
   "metadata": {
    "id": "u80tEPATLD6h"
   },
   "outputs": [],
   "source": []
  },
  {
   "cell_type": "code",
   "execution_count": null,
   "metadata": {
    "id": "on8rUdw8KWqn"
   },
   "outputs": [],
   "source": [
    "import matplotlib.pyplot as plt"
   ]
  },
  {
   "cell_type": "code",
   "execution_count": null,
   "metadata": {
    "colab": {
     "base_uri": "https://localhost:8080/",
     "height": 281
    },
    "id": "PDDL_VApJIT1",
    "outputId": "cb37fe8d-e744-4251-c73a-6cc36ea2b1b5"
   },
   "outputs": [],
   "source": [
    "y=tencooking_time_longest['cook_time']\n",
    "x=tencooking_time_longest['name']\n",
    "plt.plot(x,y)\n",
    "plt.title('dishes based on cooking time')\n",
    "plt.show()"
   ]
  },
  {
   "cell_type": "code",
   "execution_count": null,
   "metadata": {
    "id": "eTKHGCX1KM1Y"
   },
   "outputs": [],
   "source": []
  }
 ],
 "metadata": {
  "colab": {
   "collapsed_sections": [],
   "name": "Indian_food_analysis",
   "provenance": []
  },
  "kernelspec": {
   "display_name": "Python 3 (ipykernel)",
   "language": "python",
   "name": "python3"
  },
  "language_info": {
   "codemirror_mode": {
    "name": "ipython",
    "version": 3
   },
   "file_extension": ".py",
   "mimetype": "text/x-python",
   "name": "python",
   "nbconvert_exporter": "python",
   "pygments_lexer": "ipython3",
   "version": "3.9.13"
  }
 },
 "nbformat": 4,
 "nbformat_minor": 1
}
